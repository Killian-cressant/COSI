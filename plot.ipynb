{
 "cells": [
  {
   "cell_type": "markdown",
   "metadata": {},
   "source": [
    "## This file is created to plot the 3D figures of the article \"GNN graph structures in network anomaly detection\" (NOMS 2025)"
   ]
  },
  {
   "cell_type": "code",
   "execution_count": 1,
   "metadata": {},
   "outputs": [],
   "source": [
    "#imports\n",
    "import os\n",
    "import random\n",
    "import numpy as np\n",
    "import pandas as pd\n",
    "from timeit import default_timer as timer\n",
    "import time\n",
    "import re\n",
    "import Tools_first_step as tfs\n",
    "\n",
    "import matplotlib.pyplot as plt\n",
    "from matplotlib import cm \n",
    "from matplotlib.ticker import LinearLocator\n",
    "import seaborn as sns\n",
    "from mpl_toolkits.mplot3d import Axes3D\n",
    "\n",
    "pd.options.mode.chained_assignment = None"
   ]
  },
  {
   "cell_type": "code",
   "execution_count": 2,
   "metadata": {},
   "outputs": [],
   "source": [
    "#loading data set\n",
    "df=pd.read_csv('/home/student/Documents/Data/cisco/preprocessed_cisco_train.csv')\n",
    "#pd.read_csv('/home/student/Documents/Data/Training_Set_Day_1/dataset_end_total_preprocessed.csv') #no more delimiter to change after this preprocessing\n",
    "columns=df.columns\n",
    "dataset=\"cisco\""
   ]
  },
  {
   "cell_type": "code",
   "execution_count": null,
   "metadata": {},
   "outputs": [],
   "source": [
    "def rmv_Unnamed(columns):\n",
    "\n",
    "    str_remove_go=\"Unnamed\"+\".*\"\n",
    "    regex_str=re.compile(str_remove_go)\n",
    "    not_good_col=list(filter(regex_str.match, columns))\n",
    "    col_keeper=[]\n",
    "    for i in columns:\n",
    "        if i not in not_good_col:\n",
    "            col_keeper.append(i)\n",
    "        \n",
    "    new_list=list(col_keeper)\n",
    "\n",
    "    return new_list\n",
    "\n",
    "col_to_keep=rmv_Unnamed(df.columns)\n",
    "\n",
    "df=df[col_to_keep]\n",
    "print(df.shape)"
   ]
  },
  {
   "cell_type": "code",
   "execution_count": 7,
   "metadata": {},
   "outputs": [],
   "source": [
    "name_columns = df.columns\n",
    "size_mode=25"
   ]
  },
  {
   "cell_type": "code",
   "execution_count": 8,
   "metadata": {},
   "outputs": [],
   "source": [
    "from gensim.models import Word2Vec\n",
    "\n",
    "def dimentionality():\n",
    "    dim = []\n",
    "    x = []\n",
    "    \n",
    "\n",
    "    for i in range(3, size_mode+4):\n",
    "        model = Word2Vec(sentences = tfs.split_all(name_columns,dt=dataset), vector_size= i, window=5, min_count=1, workers=4, epochs=50)\n",
    "        #vector_size = 25, min_count=1, workers = 4)\n",
    "        dim.append(model)\n",
    "        x.append(model.vector_size)\n",
    "    for i in range(len(dim)):\n",
    "        model = dim[i]\n",
    "        vectors = model.wv\n",
    "        dim.append(vectors)\n",
    "\n",
    "    return dim, x \n",
    "        \n",
    "                   "
   ]
  },
  {
   "cell_type": "code",
   "execution_count": null,
   "metadata": {},
   "outputs": [],
   "source": [
    "my_dimention= dimentionality()\n",
    "print(my_dimention)"
   ]
  },
  {
   "cell_type": "code",
   "execution_count": 10,
   "metadata": {},
   "outputs": [],
   "source": [
    "\n",
    "#first\n",
    "def threashold():\n",
    "    y = threashold = []\n",
    "    initial = 0.1\n",
    "    y.append(initial)\n",
    "    for _ in range(size_mode):\n",
    "        initial += 0.035\n",
    "        y.append(round(initial,3))\n",
    "\n",
    "    return y\n",
    "\n",
    "def threashold_v2():\n",
    "    y = threashold = []\n",
    "    initial = 0.7\n",
    "    y.append(initial)\n",
    "    for _ in range(size_mode):\n",
    "        initial += 0.012\n",
    "        y.append(round(initial,3))\n",
    "\n",
    "    return y"
   ]
  },
  {
   "cell_type": "code",
   "execution_count": null,
   "metadata": {},
   "outputs": [],
   "source": [
    "threashold_result = threashold_v2()\n",
    "print(threashold_result)"
   ]
  },
  {
   "cell_type": "code",
   "execution_count": 12,
   "metadata": {},
   "outputs": [],
   "source": [
    "cosine_similarities = tfs.score_similarity_current(name_columns, my_dimention[0][0], dt=dataset)"
   ]
  },
  {
   "cell_type": "code",
   "execution_count": 15,
   "metadata": {},
   "outputs": [],
   "source": [
    "corr_mat=df.corr()"
   ]
  },
  {
   "cell_type": "code",
   "execution_count": 16,
   "metadata": {},
   "outputs": [],
   "source": [
    "dico_correlation=tfs.change_into_dicto(corr_mat)"
   ]
  },
  {
   "cell_type": "code",
   "execution_count": 17,
   "metadata": {},
   "outputs": [],
   "source": [
    "My_dictionary=tfs.build_score_lambda(dico_correlation, cosine_similarities, 0.5) #no plot in >3D warning\n",
    "My_dictionary_25=tfs.build_score_lambda(dico_correlation, cosine_similarities, 0.5)\n",
    "my_edges_test= tfs.edges_dico(My_dictionary, threashold)\n",
    "my_edges_test_25=tfs.edges_dico(My_dictionary_25, threashold)\n",
    "#useless1,useless2,useless2, edges_complet=tfs.get_edges_v3(My_dictionary,threashold,vectores_places,\"server\")\n",
    "#useless4,useless5,useless6, edges_complet_25=tfs.get_edges_v3(My_dictionary_25,threashold,vectores_places,\"server\") "
   ]
  },
  {
   "cell_type": "code",
   "execution_count": 18,
   "metadata": {},
   "outputs": [],
   "source": [
    "def total_edges():\n",
    "    edges = []\n",
    "    \n",
    "    first_list= my_dimention[0]\n",
    "    first_list=first_list[:len(first_list)//2] # remove half of the values at the end of the list that are not word2vec models\n",
    "    count_my_dim=2\n",
    "    for model in first_list:\n",
    "        count_my_dim+=1\n",
    "        a = tfs.score_similarity_current(name_columns , model, dt=\"cisco\")\n",
    "        #d_new=tfs.build_score_lambda(dico_correlation, a[0],0.5)\n",
    "        for i in threashold_result:\n",
    "            \n",
    "            print(f'threashold = {i} -- model dimension={count_my_dim}')\n",
    "            total_number = tfs.get_edges_v2(a[0], i, a[1])\n",
    "            edges.append(total_number[4])\n",
    "            \n",
    "\n",
    "    return edges\n",
    "        \n",
    "          "
   ]
  },
  {
   "cell_type": "code",
   "execution_count": null,
   "metadata": {},
   "outputs": [],
   "source": [
    "total_edges = total_edges()\n",
    "print(total_edges)"
   ]
  },
  {
   "cell_type": "code",
   "execution_count": null,
   "metadata": {},
   "outputs": [],
   "source": [
    "print(total_edges)"
   ]
  },
  {
   "cell_type": "code",
   "execution_count": 21,
   "metadata": {},
   "outputs": [],
   "source": [
    "def average_edges():\n",
    "    edges = []\n",
    "    for i in range(len(total_edges)):\n",
    "        edges.append(tfs.average_number_of_edges(df.shape[1], total_edges[i]))\n",
    "    return edges"
   ]
  },
  {
   "cell_type": "code",
   "execution_count": null,
   "metadata": {},
   "outputs": [],
   "source": [
    "ave_edges = average_edges()\n",
    "print(ave_edges)"
   ]
  },
  {
   "cell_type": "code",
   "execution_count": null,
   "metadata": {},
   "outputs": [],
   "source": [
    "#this is the plot\n",
    "#threashold_result2= threashold_result[::-1]\n",
    "#print(threashold_result)\n",
    "#ave_edges_log=np.log(ave_edges)\n",
    "\n",
    "print(len(threashold_result))\n",
    "print(len(ave_edges))\n",
    "print(len(my_dimention[1]))\n",
    "y = np.array(my_dimention[1])\n",
    "x = np.array(threashold_result)#[::-1])\n",
    "z = np.array(ave_edges)\n",
    "\n",
    "X, Y = np.meshgrid(x,y)\n",
    "#Z = np.tile(z, (len(y), 1))\n",
    "Z = np.reshape(z, (len(x), len(y)))\n",
    "print(Z[0])\n",
    "print(Z[-3])\n",
    "fig = plt.figure()\n",
    "ax = fig.add_subplot(111, projection = '3d')\n",
    "\n",
    "surf = ax.plot_surface(X, Y, Z, cmap = 'copper')\n",
    "#ax.view_init(azim=45)\n",
    "ax.set_xlabel('Threashold')\n",
    "ax.set_ylabel('dimentionality')\n",
    "ax.set_zlabel('Average edges')\n",
    "\n",
    "ax.set_ylim(28,3)\n",
    "#ax.set_xlim(28,3)\n",
    "fig.colorbar(surf)\n",
    "plt.show()\n",
    "\n"
   ]
  }
 ],
 "metadata": {
  "kernelspec": {
   "display_name": "Python 3",
   "language": "python",
   "name": "python3"
  },
  "language_info": {
   "codemirror_mode": {
    "name": "ipython",
    "version": 3
   },
   "file_extension": ".py",
   "mimetype": "text/x-python",
   "name": "python",
   "nbconvert_exporter": "python",
   "pygments_lexer": "ipython3",
   "version": "3.8.10"
  }
 },
 "nbformat": 4,
 "nbformat_minor": 2
}
