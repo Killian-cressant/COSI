{
 "cells": [
  {
   "cell_type": "markdown",
   "metadata": {},
   "source": [
    "<font size = 10>This notebook is a tool to Build a graph for spatio-temporal anomaly detection in 5G networks </font>"
   ]
  },
  {
   "cell_type": "markdown",
   "metadata": {},
   "source": [
    "`First: we need those import`"
   ]
  },
  {
   "cell_type": "code",
   "execution_count": null,
   "metadata": {
    "metadata": {}
   },
   "outputs": [],
   "source": [
    "import os\n",
    "import random\n",
    "import numpy as np\n",
    "import pandas as pd\n",
    "from timeit import default_timer as timer\n",
    "import time\n",
    "import re\n",
    "import Tools_first_step as tfs\n",
    "import matplotlib.pyplot as plt\n",
    "import seaborn as sns\n",
    "pd.options.mode.chained_assignment = None"
   ]
  },
  {
   "cell_type": "markdown",
   "metadata": {},
   "source": [
    "The threashold is required to select when we want an edge or not using this equation:\n",
    "\n",
    "$$   \n",
    "    A_{i,j}= \n",
    "    \\left\\{\n",
    "    \\begin{array}{ll}\n",
    "    0 & \\text{if  ~ } S_{i,j} \\leq T \\\\\n",
    "    1 & \\text{if ~} S_{i,j} > T \n",
    "    \\end{array}\n",
    "    \\right.\n",
    "     $$\n",
    "\n",
    "The L is used in a Lambda model in the equation: $$  S_{i,j}=\\lambda |Corr(x_i,x_j)| + (1-\\lambda)|Cosim(x_i, x_j)| $$ (ref. in the article XXX)"
   ]
  },
  {
   "cell_type": "code",
   "execution_count": null,
   "metadata": {
    "metadata": {}
   },
   "outputs": [],
   "source": [
    "threashold=0.5\n",
    "L=0.7"
   ]
  },
  {
   "cell_type": "markdown",
   "metadata": {},
   "source": [
    "This is all the path of file we need in this notebook"
   ]
  },
  {
   "cell_type": "code",
   "execution_count": null,
   "metadata": {},
   "outputs": [],
   "source": [
    "path_dataset= '/path/cisco/preprocessed_final_short_cisco_train.csv'\n",
    "matrix_correlation_path='/path/corr_matrice.csv' #not mandatory, we can also compute directly\n",
    "dataset=\"cisco\""
   ]
  },
  {
   "cell_type": "markdown",
   "metadata": {},
   "source": [
    "> ## I) Load the dataset"
   ]
  },
  {
   "cell_type": "code",
   "execution_count": null,
   "metadata": {
    "metadata": {}
   },
   "outputs": [],
   "source": [
    "df=pd.read_csv(path_dataset)#, nrows=300) \n",
    "#nrows can be used or not\n",
    "#depending if we need to calculate the correlation matrix or import it\n",
    "columns=df.columns"
   ]
  },
  {
   "cell_type": "code",
   "execution_count": null,
   "metadata": {},
   "outputs": [],
   "source": [
    "#verify the dataset :\n",
    "print(df.shape)\n",
    "col_to_keep=tfs.rmv_Unnamed(df.columns)\n",
    "df=df[col_to_keep]\n",
    "print(df.shape)"
   ]
  },
  {
   "cell_type": "markdown",
   "metadata": {},
   "source": [
    "# II) This part will generate a graph with our data"
   ]
  },
  {
   "cell_type": "markdown",
   "metadata": {},
   "source": [
    "> ### For this, we need to tokenize the feature name"
   ]
  },
  {
   "cell_type": "code",
   "execution_count": null,
   "metadata": {
    "metadata": {}
   },
   "outputs": [],
   "source": [
    "name_columns=df.columns\n",
    "print(tfs.estimate_total_number_of_word(name_columns, dt=dataset))\n",
    "number_complet=tfs.estimate_total_number_of_word(name_columns, dt=dataset)\n",
    "print(tfs.find_frequence_of_words(name_columns, dt=dataset)[1])"
   ]
  },
  {
   "cell_type": "code",
   "execution_count": null,
   "metadata": {
    "metadata": {}
   },
   "outputs": [],
   "source": [
    "tfs.split_all(name_columns, dt=dataset)"
   ]
  },
  {
   "cell_type": "code",
   "execution_count": null,
   "metadata": {
    "metadata": {}
   },
   "outputs": [],
   "source": [
    "dico_all_word=tfs.find_frequence_of_words(name_columns, dt=dataset)[1]\n",
    "dico2=tfs.find_frequence_of_words(name_columns, dt=dataset)[0]"
   ]
  },
  {
   "cell_type": "code",
   "execution_count": null,
   "metadata": {},
   "outputs": [],
   "source": [
    "import nltk\n",
    "if dataset==\"5G3E\":\n",
    "    doc_path=\"truc.txt\" #prometheus metric file explained\n",
    "    new_dico_all_word=tfs.cleaning_txt_documentation(doc_path)\n",
    "    print(new_dico_all_word[100:103])"
   ]
  },
  {
   "cell_type": "code",
   "execution_count": null,
   "metadata": {},
   "outputs": [],
   "source": [
    "#we need to get every word, including those that are only in the dataset, so we just add the column name at the end of the description file to be sure to have it\n",
    "if dataset==\"5G3E\":\n",
    "    final_dictionnary=new_dico_all_word+tfs.split_all(name_columns, dt=dataset)\n",
    "else:\n",
    "    final_dictionnary=tfs.split_all(name_columns, dt=dataset)"
   ]
  },
  {
   "cell_type": "markdown",
   "metadata": {},
   "source": [
    "> ### Using word2vec, we transform our token, then features names into vectors"
   ]
  },
  {
   "cell_type": "markdown",
   "metadata": {},
   "source": [
    "Instead, we will probably have to try BERT with the time ! BERT seams better today, but we have to give context for this one"
   ]
  },
  {
   "cell_type": "code",
   "execution_count": null,
   "metadata": {},
   "outputs": [],
   "source": [
    "from gensim.models import KeyedVectors\n",
    "from gensim.models import Word2Vec\n",
    "\n",
    "# Load pretrained model (download if needed: GoogleNews-vectors-negative300.bin)\n",
    "pretrained_model = KeyedVectors.load_word2vec_format('/path/GoogleNews-vectors-negative300.bin', binary=True)\n",
    "\n",
    "# Convert KeyedVectors to a Word2Vec instance for further training\n",
    "model = Word2Vec(vector_size=300, min_count=1)\n",
    "model.build_vocab([list(pretrained_model.key_to_index.keys())], update=False)\n",
    "model.wv.vectors = pretrained_model.vectors"
   ]
  },
  {
   "cell_type": "code",
   "execution_count": null,
   "metadata": {},
   "outputs": [],
   "source": [
    "model.build_vocab(final_dictionnary, update=True)"
   ]
  },
  {
   "cell_type": "code",
   "execution_count": null,
   "metadata": {},
   "outputs": [],
   "source": [
    "model.train(final_dictionnary, total_examples=len(final_dictionnary), epochs=10)"
   ]
  },
  {
   "cell_type": "code",
   "execution_count": null,
   "metadata": {
    "metadata": {}
   },
   "outputs": [],
   "source": [
    "a=tfs.number_a_word_in_doc(name_columns, dico2, dico_all_word, dt=dataset)\n",
    "print(a)"
   ]
  },
  {
   "cell_type": "code",
   "execution_count": null,
   "metadata": {
    "metadata": {}
   },
   "outputs": [],
   "source": [
    "score_for_each=[]\n",
    "for word, freq in dico2.items():\n",
    "    a=tfs.TF_new_version(word, dico2, number_complet)\n",
    "    score_for_each.append(a)\n",
    "\n",
    "plt.plot(score_for_each)"
   ]
  },
  {
   "cell_type": "markdown",
   "metadata": {},
   "source": [
    "> ### Now we need to use a similarity score to evaluate the difference between two features names"
   ]
  },
  {
   "cell_type": "code",
   "execution_count": null,
   "metadata": {
    "metadata": {}
   },
   "outputs": [],
   "source": [
    "\n",
    "sequence1 =model.wv['infra'] \n",
    "sequence2 =model.wv['bgp']\n",
    "similarity = tfs.cosine_similarity(sequence1, sequence2)\n",
    "print(\"Cosine Similarity:\", similarity)"
   ]
  },
  {
   "cell_type": "code",
   "execution_count": null,
   "metadata": {
    "metadata": {}
   },
   "outputs": [],
   "source": [
    "a,b=tfs.score_similarity_current(name_columns, model, dt=dataset)\n",
    "print(b)"
   ]
  },
  {
   "cell_type": "code",
   "execution_count": null,
   "metadata": {
    "metadata": {}
   },
   "outputs": [],
   "source": [
    "nodes=name_columns\n",
    "\n",
    "cosine_similarities, vectores_places=tfs.score_similarity_current(name_columns, model, dt=dataset)"
   ]
  },
  {
   "cell_type": "markdown",
   "metadata": {},
   "source": [
    "> ### Once this is done, we can plot the first graph"
   ]
  },
  {
   "cell_type": "code",
   "execution_count": null,
   "metadata": {
    "metadata": {}
   },
   "outputs": [],
   "source": [
    "xe,ye,ze, all_edges=tfs.get_edges_v3(cosine_similarities,threashold, vectores_places, dataset)"
   ]
  },
  {
   "cell_type": "code",
   "execution_count": null,
   "metadata": {
    "metadata": {}
   },
   "outputs": [],
   "source": [
    "nb=tfs.get_distribution_number_of_edges_per_nodes(\"Cisco\",cosine_similarities,threashold, vectores_places)\n",
    "#mid distrib not final !"
   ]
  },
  {
   "cell_type": "markdown",
   "metadata": {},
   "source": [
    "> ### We can even plot part of the graph that contains a specific word (in the dictionnary of word in all the features)"
   ]
  },
  {
   "cell_type": "markdown",
   "metadata": {},
   "source": [
    "# III) This part will propose to modify the edges selections, by using also the correlation matrix"
   ]
  },
  {
   "cell_type": "code",
   "execution_count": null,
   "metadata": {
    "metadata": {}
   },
   "outputs": [],
   "source": [
    "corr_mat=df.corr()\n",
    "#Here we decide to load the correlation instead of compute it"
   ]
  },
  {
   "cell_type": "code",
   "execution_count": null,
   "metadata": {},
   "outputs": [],
   "source": [
    "corr_mat.index=df.columns\n",
    "corr_mat.head()"
   ]
  },
  {
   "cell_type": "code",
   "execution_count": null,
   "metadata": {},
   "outputs": [],
   "source": [
    "dico_correlation=tfs.change_into_dico(corr_mat)"
   ]
  },
  {
   "cell_type": "code",
   "execution_count": null,
   "metadata": {
    "metadata": {}
   },
   "outputs": [],
   "source": [
    "print(len(dico_correlation))\n",
    "print(len(cosine_similarities))\n",
    "print(len(corr_mat.iloc[1]))"
   ]
  },
  {
   "cell_type": "markdown",
   "metadata": {},
   "source": [
    "> ### Final score:\n",
    "\n",
    "The function \"Build_new_score_product\" produce the score given by the equation: \n",
    "\n",
    "$$ S_{i,j}= |Corr(x_i,x_j)|*|Cosim(x_i, x_j)| $$\n",
    "\n",
    "The If we prefer the Lambda model from the equation:\n",
    "\n",
    "$$  S_{i,j}=\\lambda |Corr(x_i,x_j)| + (1-\\lambda)|Cosim(x_i, x_j)|$$\n",
    "\n",
    "We can use here instead \"build_score_lambda\"\n",
    "\n",
    "If we do not want to use a TopK function, we can use get_edges_v3  or simply select a k high enough"
   ]
  },
  {
   "cell_type": "code",
   "execution_count": null,
   "metadata": {},
   "outputs": [],
   "source": [
    "My_dictionary=tfs.build_score_lambda(dico_correlation, cosine_similarities, L) #no plot in >3D warning\n",
    "my_edges_test= tfs.edges_dico(My_dictionary, threashold)\n",
    "useless1,useless2,useless2, edges_complet=tfs.get_edges_topK(My_dictionary,threashold,vectores_places,\"\", 200)"
   ]
  },
  {
   "cell_type": "code",
   "execution_count": null,
   "metadata": {
    "metadata": {}
   },
   "outputs": [],
   "source": [
    "tfs.plot_only_part_data(My_dictionary,threashold,vectores_places,\"Cisco\") #server_1 #My_dictionnary"
   ]
  },
  {
   "cell_type": "code",
   "execution_count": null,
   "metadata": {
    "metadata": {}
   },
   "outputs": [],
   "source": [
    "useless1,useless2,useless2, edges_complet=tfs.get_edges_topK(My_dictionary,threashold,vectores_places,\"\", topK=300)#My_dictionnary/cos_sim/dico_correlation for just similkarity\n",
    "med2=tfs.get_medium_number_of_edges(edges_complet)\n",
    "print(med2)"
   ]
  },
  {
   "cell_type": "markdown",
   "metadata": {},
   "source": [
    "# IV) This section build the adjacency matrix that we willl use in GNN"
   ]
  },
  {
   "cell_type": "code",
   "execution_count": null,
   "metadata": {
    "metadata": {}
   },
   "outputs": [],
   "source": [
    "adj_3d=tfs.build_adjacency_matrix_v2(edges_complet[1:],corr_mat)"
   ]
  },
  {
   "cell_type": "code",
   "execution_count": null,
   "metadata": {
    "metadata": {}
   },
   "outputs": [],
   "source": [
    "adj_3np=np.array(adj_3d)"
   ]
  },
  {
   "cell_type": "code",
   "execution_count": null,
   "metadata": {
    "metadata": {}
   },
   "outputs": [],
   "source": [
    "#visualize the matrix:\n",
    "\n",
    "downsampled_data = adj_3np[::1, ::1]  # we can downsample if we prefer\n",
    "\n",
    "# Plot heatmap\n",
    "plt.figure(figsize=(10, 8))\n",
    "sns.heatmap(downsampled_data, cmap='viridis')\n",
    "plt.title('Adjacency matrix 25D')\n",
    "plt.show()"
   ]
  },
  {
   "cell_type": "markdown",
   "metadata": {},
   "source": [
    "> ### We made 2 differents models for words, one words projected in 25 dimensions, the other in 3, now we compare the two matrix"
   ]
  },
  {
   "cell_type": "markdown",
   "metadata": {},
   "source": [
    "# V) Finaly we have to save/load the matrix"
   ]
  },
  {
   "cell_type": "markdown",
   "metadata": {},
   "source": [
    "Modify the path for saving in the right place"
   ]
  },
  {
   "cell_type": "code",
   "execution_count": null,
   "metadata": {
    "metadata": {}
   },
   "outputs": [],
   "source": [
    "#np.savetxt('/path/cosi5_l07_th5_rebuild_short.csv',adj_3np, delimiter=',')"
   ]
  },
  {
   "cell_type": "code",
   "execution_count": null,
   "metadata": {
    "metadata": {}
   },
   "outputs": [],
   "source": [
    "#Here is how to load after\n",
    "t1=np.genfromtxt('/path.csv', delimiter=',')\n",
    "print(t1)"
   ]
  }
 ],
 "metadata": {
  "kernelspec": {
   "display_name": "base",
   "language": "python",
   "name": "python3"
  },
  "language_info": {
   "codemirror_mode": {
    "name": "ipython",
    "version": 3
   },
   "file_extension": ".py",
   "mimetype": "text/x-python",
   "name": "python",
   "nbconvert_exporter": "python",
   "pygments_lexer": "ipython3",
   "version": "3.11.5"
  }
 },
 "nbformat": 4,
 "nbformat_minor": 2
}
