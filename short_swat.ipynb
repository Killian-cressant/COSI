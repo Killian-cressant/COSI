{
 "cells": [
  {
   "cell_type": "markdown",
   "id": "3db686fc",
   "metadata": {},
   "source": [
    "This file is the short notebook to make the graph COSI version on SWAT dataset"
   ]
  },
  {
   "cell_type": "code",
   "execution_count": null,
   "id": "39b3f58f",
   "metadata": {},
   "outputs": [],
   "source": [
    "import os\n",
    "import random\n",
    "import numpy as np\n",
    "import pandas as pd\n",
    "from timeit import default_timer as timer\n",
    "import time\n",
    "import re\n",
    "import Tools_first_step as tfs\n",
    "import matplotlib.pyplot as plt\n",
    "import seaborn as sns\n",
    "pd.options.mode.chained_assignment = None"
   ]
  },
  {
   "cell_type": "code",
   "execution_count": null,
   "id": "9179f672",
   "metadata": {},
   "outputs": [],
   "source": [
    "threashold=0.7\n",
    "L=0.5"
   ]
  },
  {
   "cell_type": "code",
   "execution_count": null,
   "id": "61d7b3ed",
   "metadata": {},
   "outputs": [],
   "source": [
    "path_dataset=\"/path/preprocessed_training.csv\"\n",
    "dataset=\"swat\""
   ]
  },
  {
   "cell_type": "code",
   "execution_count": null,
   "id": "2c5a2e0c",
   "metadata": {},
   "outputs": [],
   "source": [
    "df=pd.read_csv(path_dataset)\n",
    "columns=df.columns"
   ]
  },
  {
   "cell_type": "code",
   "execution_count": null,
   "id": "371f039f",
   "metadata": {},
   "outputs": [],
   "source": [
    "print(df.shape)\n",
    "col_to_keep=tfs.rmv_Unnamed(df.columns)\n",
    "df=df[col_to_keep]\n",
    "print(df.shape)\n",
    "df.head()"
   ]
  },
  {
   "cell_type": "code",
   "execution_count": null,
   "id": "29e38ca8",
   "metadata": {},
   "outputs": [],
   "source": [
    "data_description_path=\"/path/Swat/edge_description.txt\"\n",
    "def parse_txt_to_dict(file_path):\n",
    "    data_dict = {}\n",
    "    with open(file_path, 'r') as file:\n",
    "        next(file)\n",
    "        for line in file:\n",
    "            if not line.strip():\n",
    "                continue  # skip empty lines\n",
    "            parts = line.strip().split(' ', 1)  # split only at the first space\n",
    "            #print(parts)\n",
    "            if len(parts) == 2:\n",
    "                key = int(parts[0])  # assuming the key is always an integer\n",
    "                value = parts[1]\n",
    "                data_dict[key] = value\n",
    "    return data_dict\n",
    "\n",
    "dic_sensor_description=parse_txt_to_dict(data_description_path)\n",
    "print(dic_sensor_description)"
   ]
  },
  {
   "cell_type": "code",
   "execution_count": null,
   "id": "e95f3477",
   "metadata": {},
   "outputs": [],
   "source": [
    "new_col_names=[]\n",
    "for k in dic_sensor_description.keys():\n",
    "    new_col_names.append(dic_sensor_description[k])\n",
    "\n",
    "df.columns=new_col_names\n",
    "df.head()"
   ]
  },
  {
   "cell_type": "code",
   "execution_count": null,
   "id": "85f13e3d",
   "metadata": {},
   "outputs": [],
   "source": [
    "def get_word_from_dic_swat(dictionary_swat):\n",
    "    Words=[]\n",
    "    for k in dictionary_swat.keys():\n",
    "        features_full_desc=[]\n",
    "        features_full_desc=re.split(\"[- ; . ( )]\", dictionary_swat[k])\n",
    "        new_f=[s for s in features_full_desc if s != '']\n",
    "        #final_f= [s for s in features_full_desc if s.strip() != '' and not s.strip().isdigit()]\n",
    "\n",
    "        print(new_f)\n",
    "        Words.append(new_f)\n",
    "    \n",
    "    return Words\n",
    "\n",
    "words_swat=get_word_from_dic_swat(dic_sensor_description)"
   ]
  },
  {
   "cell_type": "code",
   "execution_count": null,
   "id": "1016523d",
   "metadata": {},
   "outputs": [],
   "source": [
    "from gensim.models import KeyedVectors\n",
    "from gensim.models import Word2Vec\n",
    "\n",
    "# Load pretrained model (download if needed: GoogleNews-vectors-negative300.bin)\n",
    "pretrained_model = KeyedVectors.load_word2vec_format('/path/GoogleNews-vectors-negative300.bin', binary=True)\n",
    "\n",
    "# Convert KeyedVectors to a Word2Vec instance for further training\n",
    "model = Word2Vec(vector_size=300, min_count=1)\n",
    "model.build_vocab([list(pretrained_model.key_to_index.keys())], update=False)\n",
    "model.wv.vectors = pretrained_model.vectors\n"
   ]
  },
  {
   "cell_type": "code",
   "execution_count": null,
   "id": "14dc5cad",
   "metadata": {},
   "outputs": [],
   "source": [
    "model.build_vocab(words_swat, update=True)"
   ]
  },
  {
   "cell_type": "code",
   "execution_count": null,
   "id": "59609009",
   "metadata": {},
   "outputs": [],
   "source": [
    "model.train(words_swat, total_examples=len(words_swat), epochs=10)"
   ]
  },
  {
   "cell_type": "code",
   "execution_count": null,
   "id": "40d7081a",
   "metadata": {},
   "outputs": [],
   "source": [
    "name_columns=df.columns\n",
    "cosine_similarities,vectores_places=tfs.score_similarity_current(name_columns, model, dt=dataset)"
   ]
  },
  {
   "cell_type": "code",
   "execution_count": null,
   "id": "0a2ce429",
   "metadata": {},
   "outputs": [],
   "source": [
    "print(cosine_similarities)"
   ]
  },
  {
   "cell_type": "code",
   "execution_count": null,
   "id": "ce16992f",
   "metadata": {},
   "outputs": [],
   "source": [
    "name_columns=df.columns\n",
    "print(tfs.estimate_total_number_of_word(name_columns, dt=dataset))\n",
    "number_complet=tfs.estimate_total_number_of_word(name_columns, dt=dataset)\n",
    "print(tfs.find_frequence_of_words(name_columns, dt=dataset)[1])"
   ]
  },
  {
   "cell_type": "code",
   "execution_count": null,
   "id": "8dea7abb",
   "metadata": {},
   "outputs": [],
   "source": [
    "sequence1 =model.wv['Sodium'] \n",
    "sequence2 =model.wv['Sulphate']\n",
    "similarity = tfs.cosine_similarity(sequence1, sequence2)\n",
    "print(\"Cosine Similarity:\", similarity)"
   ]
  },
  {
   "cell_type": "code",
   "execution_count": null,
   "id": "d464befc",
   "metadata": {},
   "outputs": [],
   "source": [
    "xe,ye,ze, all_edges=tfs.get_edges_topK(cosine_similarities,threashold, vectores_places)"
   ]
  },
  {
   "cell_type": "code",
   "execution_count": null,
   "id": "3adbc0ea",
   "metadata": {},
   "outputs": [],
   "source": [
    "nb=tfs.get_distribution_number_of_edges_per_nodes(\"\",cosine_similarities,threashold, vectores_places)\n"
   ]
  },
  {
   "cell_type": "code",
   "execution_count": null,
   "id": "7cfd873d",
   "metadata": {},
   "outputs": [],
   "source": [
    "tfs.plot_data_pca(cosine_similarities,threashold,vectores_places)"
   ]
  },
  {
   "cell_type": "code",
   "execution_count": null,
   "id": "a7aaef2d",
   "metadata": {},
   "outputs": [],
   "source": [
    "corr_mat=df.corr()"
   ]
  },
  {
   "cell_type": "code",
   "execution_count": null,
   "id": "0604a34d",
   "metadata": {},
   "outputs": [],
   "source": [
    "corr_mat.index=df.columns\n",
    "corr_mat.fillna(1, inplace=True)\n",
    "corr_mat.head()\n"
   ]
  },
  {
   "cell_type": "code",
   "execution_count": null,
   "id": "fd85bfe9",
   "metadata": {},
   "outputs": [],
   "source": [
    "adj=tfs.build_adjacency_matrix_v2(all_edges[1:],corr_mat)"
   ]
  },
  {
   "cell_type": "code",
   "execution_count": null,
   "id": "e120e4d2",
   "metadata": {},
   "outputs": [],
   "source": [
    "adj=np.array(adj)\n",
    "\n",
    "# Plot heatmap\n",
    "plt.figure(figsize=(10, 8))\n",
    "sns.heatmap(adj, cmap='copper')\n",
    "plt.title('Adjacency matrix 25D')\n",
    "plt.show()"
   ]
  },
  {
   "cell_type": "markdown",
   "id": "379c6765",
   "metadata": {},
   "source": [
    "With correlation (COSI classic)"
   ]
  },
  {
   "cell_type": "code",
   "execution_count": null,
   "id": "9a082ef2",
   "metadata": {},
   "outputs": [],
   "source": [
    "dico_correlation=tfs.change_into_dico(corr_mat)\n",
    "My_dictionary=tfs.build_new_score_product(dico_correlation, cosine_similarities) \n",
    "My_cosi_5_dic=tfs.build_score_lambda(dico_correlation, cosine_similarities, L)\n",
    "my_edges_test= tfs.edges_dico(My_dictionary, threashold)\n",
    "useless1,useless2,useless3, edges_complet=tfs.get_edges_topK(My_dictionary,threashold,vectores_places,\"\", 200)\n",
    "useless11,useless22,useless33, edges_complet_cosi5=tfs.get_edges_topK(My_cosi_5_dic,threashold,vectores_places,\"\", 200)\n"
   ]
  },
  {
   "cell_type": "code",
   "execution_count": null,
   "id": "cd9fc950",
   "metadata": {},
   "outputs": [],
   "source": [
    "tfs.plot_data_pca(My_dictionary,threashold,vectores_places)"
   ]
  },
  {
   "cell_type": "code",
   "execution_count": null,
   "id": "a48dea6e",
   "metadata": {},
   "outputs": [],
   "source": [
    "med=tfs.get_medium_number_of_edges(edges_complet_cosi5)\n",
    "print(f'average number of edges per nodes: {med}')"
   ]
  },
  {
   "cell_type": "code",
   "execution_count": null,
   "id": "d5eeafb9",
   "metadata": {},
   "outputs": [],
   "source": [
    "adj_cosi=tfs.build_adjacency_matrix_v2(edges_complet[1:],corr_mat)"
   ]
  },
  {
   "cell_type": "code",
   "execution_count": null,
   "id": "5f2100fa",
   "metadata": {},
   "outputs": [],
   "source": [
    "adj_cosi_np=np.array(adj_cosi)\n",
    "\n",
    "# Plot heatmap\n",
    "plt.figure(figsize=(10, 8))\n",
    "sns.heatmap(adj_cosi_np, cmap='copper')\n",
    "plt.title('Adjacency matrix 25D')\n",
    "plt.show()"
   ]
  },
  {
   "cell_type": "code",
   "execution_count": null,
   "id": "f69c25ec",
   "metadata": {},
   "outputs": [],
   "source": [
    "#np.savetxt(\"/path/Swat/corr.txt\", adj_cosi_np, delimiter=',' )"
   ]
  }
 ],
 "metadata": {
  "kernelspec": {
   "display_name": "base",
   "language": "python",
   "name": "python3"
  },
  "language_info": {
   "codemirror_mode": {
    "name": "ipython",
    "version": 3
   },
   "file_extension": ".py",
   "mimetype": "text/x-python",
   "name": "python",
   "nbconvert_exporter": "python",
   "pygments_lexer": "ipython3",
   "version": "3.11.5"
  }
 },
 "nbformat": 4,
 "nbformat_minor": 5
}
